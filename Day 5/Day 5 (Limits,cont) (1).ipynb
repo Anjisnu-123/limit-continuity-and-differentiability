{
 "cells": [
  {
   "cell_type": "markdown",
   "id": "514d0bcb-014d-4d4d-9481-131a881ce33f",
   "metadata": {
    "jp-MarkdownHeadingCollapsed": true
   },
   "source": [
    "## Find limit"
   ]
  },
  {
   "cell_type": "code",
   "execution_count": 2,
   "id": "b0bfb71f-4297-44df-b0e3-de471d402d3e",
   "metadata": {},
   "outputs": [],
   "source": [
    "import sympy as smp"
   ]
  },
  {
   "cell_type": "code",
   "execution_count": 4,
   "id": "cc6ca9fd-8e17-4486-b641-dc55c6d3be5c",
   "metadata": {},
   "outputs": [],
   "source": [
    "x=smp.Symbol('x')"
   ]
  },
  {
   "cell_type": "code",
   "execution_count": 6,
   "id": "43aaa9bd-74a9-43aa-b314-ba8227b45e05",
   "metadata": {},
   "outputs": [],
   "source": [
    "f=smp.sin(x)/x"
   ]
  },
  {
   "cell_type": "code",
   "execution_count": 7,
   "id": "bce1188b-a810-49b6-b11b-2760af031649",
   "metadata": {},
   "outputs": [
    {
     "data": {
      "text/latex": [
       "$\\displaystyle 1$"
      ],
      "text/plain": [
       "1"
      ]
     },
     "execution_count": 7,
     "metadata": {},
     "output_type": "execute_result"
    }
   ],
   "source": [
    "smp.limit(f,x,0)"
   ]
  },
  {
   "cell_type": "markdown",
   "id": "b14a3bf0-f7df-4e73-99ef-5dcfe4ad2c48",
   "metadata": {
    "jp-MarkdownHeadingCollapsed": true
   },
   "source": [
    "## check if cont"
   ]
  },
  {
   "cell_type": "code",
   "execution_count": 8,
   "id": "11adfdf2-22a7-4a84-bef6-2ce753b8265c",
   "metadata": {},
   "outputs": [],
   "source": [
    "a=x**2\n",
    "c=2*x+1"
   ]
  },
  {
   "cell_type": "code",
   "execution_count": 9,
   "id": "fa61e0d7-69db-4845-ad99-6abc97322452",
   "metadata": {},
   "outputs": [],
   "source": [
    "neg=smp.limit(a,x,1,dir='-')\n",
    "pos=smp.limit(c,x,1,dir='+')"
   ]
  },
  {
   "cell_type": "code",
   "execution_count": 10,
   "id": "b9b66018-2195-4e66-93f3-be714b663689",
   "metadata": {},
   "outputs": [
    {
     "data": {
      "text/plain": [
       "False"
      ]
     },
     "execution_count": 10,
     "metadata": {},
     "output_type": "execute_result"
    }
   ],
   "source": [
    "neg==pos"
   ]
  },
  {
   "cell_type": "markdown",
   "id": "238b2231-cccb-4dd3-bfc4-ebb571c9c4e7",
   "metadata": {},
   "source": [
    "### Using piecewise method"
   ]
  },
  {
   "cell_type": "code",
   "execution_count": 32,
   "id": "5402ac39-b154-429a-a0d4-b8e803a450a5",
   "metadata": {},
   "outputs": [
    {
     "name": "stdout",
     "output_type": "stream",
     "text": [
      "Piecewise((x**2, x < 1), (2*x + 1, x > 1))\n",
      "Piecewise((x**2, x < 1), (2*x + 1, x > 1))\n",
      "Limit from the left (x -> 1^-): 1\n",
      "Limit from the right (x -> 1^+): 3\n"
     ]
    }
   ],
   "source": [
    "import sympy as sp\n",
    "\n",
    "x = sp.symbols('x')\n",
    "\n",
    "\n",
    "f = sp.Piecewise((x**2, x < 1), (2*x + 1, x > 1))\n",
    "print(f)\n",
    "\n",
    "neg = sp.limit(f, x, 1, dir='-')\n",
    "if(sp.limit(f, x, 1, dir='-')):\n",
    "    print(f)\n",
    "pos = sp.limit(f, x, 1, dir='+')\n",
    "\n",
    "print(f\"Limit from the left (x -> 1^-): {neg}\")\n",
    "print(f\"Limit from the right (x -> 1^+): {pos}\")\n"
   ]
  },
  {
   "cell_type": "markdown",
   "id": "05890ac1-afee-4ec6-82a1-c824d711b5ba",
   "metadata": {
    "jp-MarkdownHeadingCollapsed": true
   },
   "source": [
    "## Find left and right hand limit"
   ]
  },
  {
   "cell_type": "code",
   "execution_count": 11,
   "id": "16a5edf9-832f-4dc1-aca2-3aed68f0882b",
   "metadata": {},
   "outputs": [],
   "source": [
    "func=1/(x-1)"
   ]
  },
  {
   "cell_type": "code",
   "execution_count": 12,
   "id": "7e61e430-087f-4785-a34b-e329087c3a72",
   "metadata": {},
   "outputs": [],
   "source": [
    "lhl=smp.limit(func,x,1,dir='-')\n",
    "rhl=smp.limit(func,x,1,dir='+')"
   ]
  },
  {
   "cell_type": "code",
   "execution_count": 13,
   "id": "3ff3975f-c925-471c-8f5e-9355982fea20",
   "metadata": {},
   "outputs": [
    {
     "data": {
      "text/latex": [
       "$\\displaystyle -\\infty$"
      ],
      "text/plain": [
       "-oo"
      ]
     },
     "execution_count": 13,
     "metadata": {},
     "output_type": "execute_result"
    }
   ],
   "source": [
    "lhl"
   ]
  },
  {
   "cell_type": "code",
   "execution_count": 14,
   "id": "4bc547b6-f8b8-4ed0-8c8c-f9bdfa8ca3e1",
   "metadata": {},
   "outputs": [
    {
     "data": {
      "text/latex": [
       "$\\displaystyle \\infty$"
      ],
      "text/plain": [
       "oo"
      ]
     },
     "execution_count": 14,
     "metadata": {},
     "output_type": "execute_result"
    }
   ],
   "source": [
    "rhl"
   ]
  },
  {
   "cell_type": "markdown",
   "id": "740f58a0-219d-4d98-98a0-68710a30b0f5",
   "metadata": {
    "jp-MarkdownHeadingCollapsed": true
   },
   "source": [
    "## check if the function has removable discontinuity"
   ]
  },
  {
   "cell_type": "code",
   "execution_count": 46,
   "id": "fd50c05e-c618-4583-bd95-3fddb6ce2029",
   "metadata": {},
   "outputs": [
    {
     "name": "stdout",
     "output_type": "stream",
     "text": [
      "(x**2 - 4)/(x - 2)\n"
     ]
    }
   ],
   "source": [
    "func=(x**2-4)/(x-2)\n",
    "simplified=sp.simplify(func)\n",
    "print(func)"
   ]
  },
  {
   "cell_type": "code",
   "execution_count": 16,
   "id": "91559f30-4851-4211-ba7f-660cc547d184",
   "metadata": {},
   "outputs": [],
   "source": [
    "lhl=smp.limit(func,x,2,dir='-')\n",
    "rhl=smp.limit(func,x,2,dir='+')"
   ]
  },
  {
   "cell_type": "code",
   "execution_count": 19,
   "id": "b7d3d5f7-3478-4e12-a046-981a56471d12",
   "metadata": {},
   "outputs": [
    {
     "data": {
      "text/plain": [
       "True"
      ]
     },
     "execution_count": 19,
     "metadata": {},
     "output_type": "execute_result"
    }
   ],
   "source": [
    "lhl==rhl"
   ]
  },
  {
   "cell_type": "code",
   "execution_count": 43,
   "id": "75682e2e-34af-47f6-80a2-aee9bac90086",
   "metadata": {},
   "outputs": [
    {
     "data": {
      "text/latex": [
       "$\\displaystyle x + 2$"
      ],
      "text/plain": [
       "x + 2"
      ]
     },
     "execution_count": 43,
     "metadata": {},
     "output_type": "execute_result"
    }
   ],
   "source": [
    "simplified"
   ]
  },
  {
   "cell_type": "code",
   "execution_count": 44,
   "id": "87f3969e-dfee-4d87-baf1-0a15be616486",
   "metadata": {},
   "outputs": [],
   "source": [
    "value_at_2=simplified.subs(x,2)"
   ]
  },
  {
   "cell_type": "code",
   "execution_count": 45,
   "id": "8d82f20b-0885-4d8e-ada6-99d96c2d0056",
   "metadata": {},
   "outputs": [
    {
     "data": {
      "text/latex": [
       "$\\displaystyle 4$"
      ],
      "text/plain": [
       "4"
      ]
     },
     "execution_count": 45,
     "metadata": {},
     "output_type": "execute_result"
    }
   ],
   "source": [
    "value_at_2"
   ]
  },
  {
   "cell_type": "markdown",
   "id": "100e900e-af5a-49b5-b37d-dabcad456c48",
   "metadata": {
    "jp-MarkdownHeadingCollapsed": true
   },
   "source": [
    "## Using epsilon delta defn check if holds ofr epsilon=0.01"
   ]
  },
  {
   "cell_type": "code",
   "execution_count": 62,
   "id": "615c5ea6-bffb-4817-b9c8-02652ebd48b1",
   "metadata": {},
   "outputs": [
    {
     "name": "stdout",
     "output_type": "stream",
     "text": [
      "delta: 0.00333\n",
      "Satisfied for epsilon = 0.01: True\n"
     ]
    }
   ],
   "source": [
    "import numpy as np\n",
    "\n",
    "def check_limit(epsilon, delta, x):\n",
    "    differences = np.abs(3 * x - 5 - 1)\n",
    "    return np.all(differences < epsilon)\n",
    "\n",
    "epsilon = 0.01\n",
    "delta = epsilon / 3\n",
    "\n",
    "x = np.linspace(2 - delta, 2 + delta, 1000)\n",
    "\n",
    "satisfies = check_limit(epsilon, delta, x)\n",
    "\n",
    "\n",
    "print(f\"delta: {delta:.5f}\")\n",
    "print(f\"Satisfied for epsilon = {epsilon}: {satisfies}\")"
   ]
  },
  {
   "cell_type": "code",
   "execution_count": 92,
   "id": "467f7d35-4a54-4439-a10c-edc77c21a6d1",
   "metadata": {},
   "outputs": [
    {
     "name": "stdout",
     "output_type": "stream",
     "text": [
      "(1.99666666666667 < x) & (x < 2.00333333333333)\n"
     ]
    }
   ],
   "source": [
    "\n",
    "fx = 3*x - 5\n",
    "epsilon = 0.01\n",
    "a=2\n",
    "fxl = abs(fx - 1) < epsilon\n",
    "\n",
    "\n",
    "\n",
    "delta = sp.symbols('delta')\n",
    "\n",
    "delta = sp.solve(fxl.subs(x,a+abs(x-a)).subs(epsilon, epsilon),abs(x-a))\n",
    "\n",
    "print(delta)"
   ]
  },
  {
   "cell_type": "code",
   "execution_count": 93,
   "id": "97528448-862a-4de9-8adc-6c906e9cb584",
   "metadata": {},
   "outputs": [
    {
     "name": "stdout",
     "output_type": "stream",
     "text": [
      "The coefficient of x is: 3\n"
     ]
    }
   ],
   "source": [
    "import sympy as sp\n",
    "\n",
    "coefficient_of_x = eqn.coeff(x)\n",
    "\n",
    "print(\"The coefficient of x is:\", coefficient_of_x)\n"
   ]
  },
  {
   "cell_type": "markdown",
   "id": "9ea64f09-8991-4bdb-931a-268e2d6a6fe9",
   "metadata": {
    "jp-MarkdownHeadingCollapsed": true
   },
   "source": [
    "## find derivative using sympy"
   ]
  },
  {
   "cell_type": "code",
   "execution_count": 102,
   "id": "2e525b7a-9e1e-450e-b618-247aec0c88ed",
   "metadata": {},
   "outputs": [],
   "source": [
    "from sympy import sin,cos,diff,ln\n",
    "func=sin(cos(3*x**2+1))"
   ]
  },
  {
   "cell_type": "code",
   "execution_count": 96,
   "id": "593a8a38-ecc1-4c1f-8b14-63c008db76a9",
   "metadata": {},
   "outputs": [],
   "source": [
    "deriv=diff(func,x)"
   ]
  },
  {
   "cell_type": "code",
   "execution_count": 111,
   "id": "8cf9d5a3-89ab-4a50-9cdb-5f57050a3e27",
   "metadata": {},
   "outputs": [
    {
     "data": {
      "text/latex": [
       "$\\displaystyle - 6 x \\sin{\\left(3 x^{2} + 1 \\right)} \\cos{\\left(\\cos{\\left(3 x^{2} + 1 \\right)} \\right)}$"
      ],
      "text/plain": [
       "-6*x*sin(3*x**2 + 1)*cos(cos(3*x**2 + 1))"
      ]
     },
     "execution_count": 111,
     "metadata": {},
     "output_type": "execute_result"
    }
   ],
   "source": [
    "deriv.simplify()"
   ]
  },
  {
   "cell_type": "code",
   "execution_count": 103,
   "id": "ae81aeaa-9536-4ce3-ae81-31ce01fff2fb",
   "metadata": {},
   "outputs": [],
   "source": [
    "func=ln(x**2+1)"
   ]
  },
  {
   "cell_type": "code",
   "execution_count": 104,
   "id": "9f8b8745-3aa0-4b98-9a67-ae076d53a6c5",
   "metadata": {},
   "outputs": [],
   "source": [
    "ans1=diff(func,x)\n",
    "ans2=diff(ans1,x)"
   ]
  },
  {
   "cell_type": "code",
   "execution_count": 107,
   "id": "a382480b-a42e-493a-a75d-9bbbf0131e95",
   "metadata": {},
   "outputs": [
    {
     "data": {
      "text/latex": [
       "$\\displaystyle \\frac{2 \\cdot \\left(1 - x^{2}\\right)}{x^{4} + 2 x^{2} + 1}$"
      ],
      "text/plain": [
       "2*(1 - x**2)/(x**4 + 2*x**2 + 1)"
      ]
     },
     "execution_count": 107,
     "metadata": {},
     "output_type": "execute_result"
    }
   ],
   "source": [
    "ans2.simplify()"
   ]
  },
  {
   "cell_type": "code",
   "execution_count": 113,
   "id": "5fd10f27-3ff8-4534-b41c-3a0cd74c0c85",
   "metadata": {},
   "outputs": [
    {
     "data": {
      "text/plain": [
       "'1.12'"
      ]
     },
     "execution_count": 113,
     "metadata": {},
     "output_type": "execute_result"
    }
   ],
   "source": [
    "sp.__version__"
   ]
  },
  {
   "cell_type": "markdown",
   "id": "3c4ce56d-4a02-4573-9e04-809c85ac4ab5",
   "metadata": {
    "jp-MarkdownHeadingCollapsed": true
   },
   "source": [
    "## The radius of a circular oil spill increases at 0.1m/s how fast the area is increasing when the radius is 10 m?"
   ]
  },
  {
   "cell_type": "code",
   "execution_count": 132,
   "id": "e803e584-6da6-47b4-92df-4fcefe952b0b",
   "metadata": {},
   "outputs": [],
   "source": [
    "r=sp.symbols('r')\n",
    "\n"
   ]
  },
  {
   "cell_type": "code",
   "execution_count": 133,
   "id": "42bb15e4-ee41-4534-9c55-254579d99482",
   "metadata": {},
   "outputs": [],
   "source": [
    "eqn=np.pi*r*r"
   ]
  },
  {
   "cell_type": "code",
   "execution_count": 134,
   "id": "3bd53d57-85f2-40ba-a556-25eb6415c657",
   "metadata": {},
   "outputs": [],
   "source": [
    "ans=diff(eqn,r)"
   ]
  },
  {
   "cell_type": "code",
   "execution_count": 135,
   "id": "a65617f6-0039-4f34-b67a-2fbab6d06666",
   "metadata": {},
   "outputs": [
    {
     "data": {
      "text/latex": [
       "$\\displaystyle 6.28318530717959$"
      ],
      "text/plain": [
       "6.28318530717959"
      ]
     },
     "execution_count": 135,
     "metadata": {},
     "output_type": "execute_result"
    }
   ],
   "source": [
    "ans.subs({r:10})*0.1"
   ]
  },
  {
   "cell_type": "markdown",
   "id": "4a59c23e-c59b-4dec-b64d-a44d3f539937",
   "metadata": {
    "jp-MarkdownHeadingCollapsed": true
   },
   "source": [
    "## approximate the derivative of f(x)=sinx at x=pi/4 using finite differences f'x=f(x+h)-f(x-h)/2h  h=10**-5"
   ]
  },
  {
   "cell_type": "code",
   "execution_count": 143,
   "id": "11dad035-b8f3-475a-b337-abf97a8e3ad5",
   "metadata": {},
   "outputs": [
    {
     "data": {
      "text/latex": [
       "$\\displaystyle 0.707106781175479$"
      ],
      "text/plain": [
       "0.707106781175479"
      ]
     },
     "execution_count": 143,
     "metadata": {},
     "output_type": "execute_result"
    }
   ],
   "source": [
    "import sympy as sp\n",
    "\n",
    "\n",
    "x = sp.symbols('x')\n",
    "f = sp.sin(x)\n",
    "\n",
    "\n",
    "x_val = np.pi / 4\n",
    "h = 10**-5\n",
    "\n",
    "\n",
    "f_x_plus = f.subs(x, x_val + h)\n",
    "f_x_minus = f.subs(x, x_val - h)\n",
    "\n",
    "\n",
    "ans = (f_x_plus_h - f_x_minus_h) / (2 * h)\n",
    "\n",
    "\n",
    "ans= sp.simplify(ans)\n",
    "\n",
    "ans.evalf()\n"
   ]
  },
  {
   "cell_type": "markdown",
   "id": "40344538-01cd-4376-8ecc-645b41e087af",
   "metadata": {
    "jp-MarkdownHeadingCollapsed": true
   },
   "source": [
    "## minimize the cost of a recatngular box with sq base and volume 1000m3.the base costs 5$/m2 sides 10 $/m2 and top 2 &/m2"
   ]
  },
  {
   "cell_type": "code",
   "execution_count": 195,
   "id": "68f8f21f-aab0-4b9a-8c02-6c8edbb89178",
   "metadata": {},
   "outputs": [],
   "source": [
    "x=sp.symbols('x')\n",
    "h=sp.symbols('h')"
   ]
  },
  {
   "cell_type": "code",
   "execution_count": 196,
   "id": "803ef4f7-36a8-4e3d-9f73-3675cf4d82f8",
   "metadata": {},
   "outputs": [],
   "source": [
    "volume=x*x*h\n",
    "volume=1000"
   ]
  },
  {
   "cell_type": "code",
   "execution_count": 197,
   "id": "5157138c-a8ae-4f2a-a937-bef68d127f15",
   "metadata": {},
   "outputs": [],
   "source": [
    "h=1000/x**2"
   ]
  },
  {
   "cell_type": "code",
   "execution_count": 198,
   "id": "787055a4-4e74-4dbf-92cb-9df7ec33fb1b",
   "metadata": {},
   "outputs": [],
   "source": [
    "cost_of_base=5*x*x"
   ]
  },
  {
   "cell_type": "code",
   "execution_count": 199,
   "id": "6bd629e8-15ce-4650-9611-78279d9a155f",
   "metadata": {},
   "outputs": [],
   "source": [
    "cost_of_wall=10*4*x*h"
   ]
  },
  {
   "cell_type": "code",
   "execution_count": 200,
   "id": "fc605e16-8847-48c1-8f3a-8a45bcabed44",
   "metadata": {},
   "outputs": [],
   "source": [
    "cost_of_top=2*x*x"
   ]
  },
  {
   "cell_type": "code",
   "execution_count": 201,
   "id": "f9568023-a7ff-4584-a315-b63b58ee4a25",
   "metadata": {},
   "outputs": [],
   "source": [
    "cost=cost_of_base+cost_of_top+cost_of_wall"
   ]
  },
  {
   "cell_type": "code",
   "execution_count": 202,
   "id": "39ca6c14-26c2-4499-8089-29d9693227fe",
   "metadata": {},
   "outputs": [
    {
     "data": {
      "text/latex": [
       "$\\displaystyle 7 x^{2} + \\frac{40000}{x}$"
      ],
      "text/plain": [
       "7*x**2 + 40000/x"
      ]
     },
     "execution_count": 202,
     "metadata": {},
     "output_type": "execute_result"
    }
   ],
   "source": [
    "cost"
   ]
  },
  {
   "cell_type": "code",
   "execution_count": 203,
   "id": "336f5792-16d1-4cc6-b9f5-49a8ff040c11",
   "metadata": {},
   "outputs": [],
   "source": [
    "a=diff(cost,x)"
   ]
  },
  {
   "cell_type": "code",
   "execution_count": 204,
   "id": "de61020a-9b38-44bc-8b33-7160b3721f00",
   "metadata": {},
   "outputs": [
    {
     "data": {
      "text/latex": [
       "$\\displaystyle 14 x - \\frac{40000}{x^{2}}$"
      ],
      "text/plain": [
       "14*x - 40000/x**2"
      ]
     },
     "execution_count": 204,
     "metadata": {},
     "output_type": "execute_result"
    }
   ],
   "source": [
    "a"
   ]
  },
  {
   "cell_type": "code",
   "execution_count": 205,
   "id": "56d22800-bd21-480e-818c-71ee94b2cc2f",
   "metadata": {},
   "outputs": [],
   "source": [
    "l=sp.solve(a)"
   ]
  },
  {
   "cell_type": "code",
   "execution_count": 210,
   "id": "73d396ca-4486-4ca5-bb09-236394d5e0bb",
   "metadata": {},
   "outputs": [],
   "source": [
    "l=l[0].evalf()"
   ]
  },
  {
   "cell_type": "code",
   "execution_count": 213,
   "id": "eed52e4e-8586-46e7-80e8-6eec37e54710",
   "metadata": {},
   "outputs": [
    {
     "data": {
      "text/latex": [
       "$\\displaystyle 4228.37923923894$"
      ],
      "text/plain": [
       "4228.37923923894"
      ]
     },
     "execution_count": 213,
     "metadata": {},
     "output_type": "execute_result"
    }
   ],
   "source": [
    "cost.subs({x:l})"
   ]
  },
  {
   "cell_type": "markdown",
   "id": "9959dc93-2a3f-4f9e-a175-89f601a58fa5",
   "metadata": {
    "jp-MarkdownHeadingCollapsed": true
   },
   "source": [
    "## find the area enclosed by the curve y=root(x) b/w x=0 and x=4 (solve using both trapizoidal and direct integration)"
   ]
  },
  {
   "cell_type": "markdown",
   "id": "fedd6b04-9196-4415-80ba-98f5497e59f4",
   "metadata": {},
   "source": [
    "## Find the volume of a solid obtained by rotating y=x**2 around the x axis b/w x=0 to 2"
   ]
  },
  {
   "cell_type": "markdown",
   "id": "7353716d-5315-465b-ad5f-123c4b40e0ab",
   "metadata": {},
   "source": [
    "## Approximate the integral of cosx from 0 to pi/2 using the trapz rule"
   ]
  },
  {
   "cell_type": "markdown",
   "id": "9a410c32-7a30-4b78-9ab6-4f964a22b914",
   "metadata": {},
   "source": [
    "## Find the arc length of the curve f(x)=sinx from x=0 to x=pi using finite differences"
   ]
  },
  {
   "cell_type": "markdown",
   "id": "346d64d8-6951-4e88-bca9-35671fad3758",
   "metadata": {},
   "source": [
    "## VErify the fundamental theorem of  calculus for the function f(x)=3x**2 use python to find both anti derivative and derivative and confirm the match"
   ]
  },
  {
   "cell_type": "markdown",
   "id": "16440a1d-349c-4efa-bfa8-4746cdabd135",
   "metadata": {},
   "source": [
    "## Compare the result of fundamental theorem of calculus with a numerical method-\n",
    "compute the definite integral from x=0 to x=1 using 1> fundamental theorem of calc 2> trapz rule \n",
    "3> visualize fundamental theorem of calc"
   ]
  },
  {
   "cell_type": "code",
   "execution_count": null,
   "id": "1b214648-4dbe-48b9-925d-252e5163ef98",
   "metadata": {},
   "outputs": [],
   "source": []
  }
 ],
 "metadata": {
  "kernelspec": {
   "display_name": "Python 3 (ipykernel)",
   "language": "python",
   "name": "python3"
  },
  "language_info": {
   "codemirror_mode": {
    "name": "ipython",
    "version": 3
   },
   "file_extension": ".py",
   "mimetype": "text/x-python",
   "name": "python",
   "nbconvert_exporter": "python",
   "pygments_lexer": "ipython3",
   "version": "3.12.4"
  }
 },
 "nbformat": 4,
 "nbformat_minor": 5
}
